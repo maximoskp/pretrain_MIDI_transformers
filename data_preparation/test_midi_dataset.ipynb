{
 "cells": [
  {
   "cell_type": "code",
   "execution_count": 1,
   "metadata": {},
   "outputs": [
    {
     "name": "stderr",
     "output_type": "stream",
     "text": [
      "/home/maximos/miniconda3/envs/torch/lib/python3.12/site-packages/tqdm/auto.py:21: TqdmWarning: IProgress not found. Please update jupyter and ipywidgets. See https://ipywidgets.readthedocs.io/en/stable/user_install.html\n",
      "  from .autonotebook import tqdm as notebook_tqdm\n"
     ]
    }
   ],
   "source": [
    "from transformers import RobertaTokenizerFast\n",
    "import pickle\n",
    "\n",
    "from miditok import REMI, TokenizerConfig, TokSequence\n",
    "\n",
    "from pathlib import Path\n",
    "\n",
    "import symusic"
   ]
  },
  {
   "cell_type": "code",
   "execution_count": 2,
   "metadata": {},
   "outputs": [],
   "source": [
    "MAX_LENGTH = 1024\n",
    "\n",
    "tokenizer = RobertaTokenizerFast.from_pretrained('../data/midi_wordlevel_tokenizer/' , max_len=MAX_LENGTH)"
   ]
  },
  {
   "cell_type": "code",
   "execution_count": 3,
   "metadata": {},
   "outputs": [],
   "source": [
    "with open('../data/midi_dataset.pickle', \"rb\") as input_file:\n",
    "    chroma_dataset = pickle.load(input_file)\n",
    "\n",
    "# train_dataset = chroma_dataset['train_dataset']\n",
    "test_dataset = chroma_dataset['test_dataset']"
   ]
  },
  {
   "cell_type": "code",
   "execution_count": 4,
   "metadata": {},
   "outputs": [
    {
     "name": "stdout",
     "output_type": "stream",
     "text": [
      "1024\n",
      "['bar_none', 'position_0', 'tempo_125x0', 'bar_none', 'bar_none', 'bar_none', 'bar_none', 'bar_none', 'bar_none', 'position_15', 'pitch_67', 'velocity_63', 'duration_2x1x2', 'position_23', 'pitch_79', 'velocity_68', 'duration_1x2x4', 'pitch_55', 'velocity_31', 'duration_0x1x8', 'pitch_62', 'velocity_21', 'duration_0x1x8', 'position_28', 'pitch_81', 'velocity_79', 'duration_0x7x8', 'position_29', 'pitch_74', 'velocity_58', 'duration_0x4x8', 'pitch_65', 'velocity_47', 'duration_0x4x8', 'bar_none', 'position_0', 'pitch_82', 'velocity_79', 'duration_0x3x8', 'pitch_56', 'velocity_42', 'duration_0x1x8', 'position_4', 'pitch_84', 'velocity_84', 'duration_1x0x4', 'pitch_73', 'velocity_74', 'duration_1x0x4', 'pitch_64', 'velocity_58', 'duration_1x0x4', 'position_8', 'pitch_82', 'velocity_74', 'duration_0x4x8', 'pitch_55', 'velocity_37', 'duration_0x4x8', 'pitch_76', 'velocity_58', 'duration_0x1x8', 'pitch_67', 'velocity_42', 'duration_0x4x8', 'position_13', 'pitch_81', 'velocity_74', 'duration_1x2x4', 'pitch_72', 'velocity_63', 'duration_1x2x4', 'pitch_63', 'velocity_58', 'duration_0x6x8', 'position_19', 'pitch_79', 'velocity_74', 'duration_0x5x8', 'pitch_67', 'velocity_37', 'duration_0x5x8', 'pitch_63', 'velocity_31', 'duration_0x5x8', 'position_25', 'pitch_79', 'velocity_58', 'duration_1x2x4', 'pitch_55', 'velocity_84', 'duration_0x1x8', 'bar_none', 'position_2', 'pitch_91', 'velocity_84', 'duration_1x1x4', 'pitch_84', 'velocity_74', 'duration_1x3x4', 'pitch_89', 'velocity_74', 'duration_1x3x4', 'pitch_77', 'velocity_74', 'duration_1x3x4', 'pitch_67', 'velocity_58', 'duration_1x3x4', 'pitch_55', 'velocity_58', 'duration_0x2x8', 'position_4', 'pitch_79', 'velocity_68', 'duration_1x2x4', 'pitch_55', 'velocity_58', 'duration_1x2x4', 'position_9', 'pitch_68', 'velocity_63', 'duration_0x7x8', 'pitch_72', 'velocity_74', 'duration_0x7x8', 'pitch_103', 'velocity_95', 'duration_3x0x2', 'position_10', 'pitch_96', 'velocity_84', 'duration_0x6x8', 'position_12', 'pitch_91', 'velocity_68', 'duration_1x3x4', 'position_17', 'pitch_67', 'velocity_52', 'duration_1x0x4', 'pitch_55', 'velocity_74', 'duration_1x0x4', 'position_24', 'pitch_91', 'velocity_68', 'duration_0x2x8', 'pitch_84', 'velocity_68', 'duration_2x0x2', 'position_25', 'pitch_77', 'velocity_58', 'duration_1x3x4', 'pitch_89', 'velocity_63', 'duration_1x1x4', 'pitch_55', 'velocity_42', 'duration_1x3x4', 'pitch_67', 'velocity_31', 'duration_1x3x4', 'position_27', 'pitch_79', 'velocity_74', 'duration_1x2x4', 'pitch_91', 'velocity_63', 'duration_1x0x4', 'position_31', 'pitch_68', 'velocity_58', 'duration_1x0x4', 'bar_none', 'position_0', 'pitch_72', 'velocity_63', 'duration_0x7x8', 'position_1', 'pitch_96', 'velocity_79', 'duration_0x6x8', 'pitch_103', 'velocity_84', 'duration_0x6x8', 'position_3', 'pitch_89', 'velocity_47', 'duration_0x4x8', 'pitch_91', 'velocity_58', 'duration_1x3x4', 'position_9', 'pitch_55', 'velocity_63', 'duration_0x6x8', 'position_16', 'pitch_91', 'velocity_68', 'duration_0x2x8', 'pitch_79', 'velocity_47', 'duration_0x2x8', 'pitch_84', 'velocity_58', 'duration_1x1x4', 'pitch_55', 'velocity_42', 'duration_2x0x2', 'pitch_67', 'velocity_42', 'duration_2x0x2', 'pitch_77', 'velocity_52', 'duration_1x2x4', 'position_18', 'pitch_79', 'velocity_63', 'duration_1x1x4', 'pitch_91', 'velocity_52', 'duration_0x6x8', 'position_23', 'pitch_68', 'velocity_47', 'duration_1x1x4', 'position_24', 'pitch_72', 'velocity_58', 'duration_1x0x4', 'pitch_103', 'velocity_74', 'duration_1x0x4', 'pitch_91', 'velocity_58', 'duration_0x3x8', 'position_25', 'pitch_96', 'velocity_58', 'duration_0x7x8', 'pitch_84', 'velocity_52', 'duration_0x7x8', 'position_28', 'pitch_91', 'velocity_58', 'duration_1x3x4', 'pitch_89', 'velocity_47', 'duration_0x4x8', 'pitch_79', 'velocity_42', 'duration_0x4x8', 'pitch_77', 'velocity_37', 'duration_0x4x8', 'bar_none', 'position_1', 'pitch_55', 'velocity_52', 'duration_0x4x8', 'position_10', 'pitch_91', 'velocity_63', 'duration_2x1x2', 'pitch_77', 'velocity_52', 'duration_3x1x2', 'pitch_84', 'velocity_58', 'duration_3x1x2', 'pitch_89', 'velocity_58', 'duration_3x1x2', 'position_11', 'pitch_55', 'velocity_37', 'duration_3x1x2', 'pitch_67', 'velocity_31', 'duration_0x3x8', 'position_13', 'pitch_79', 'velocity_63', 'duration_3x0x2', 'position_14', 'pitch_67', 'velocity_26', 'duration_3x0x2', 'position_18', 'pitch_68', 'velocity_47', 'duration_2x1x2', 'position_20', 'pitch_72', 'velocity_42', 'duration_2x1x2', 'position_21', 'pitch_74', 'velocity_58', 'duration_2x0x2', 'pitch_103', 'velocity_68', 'duration_2x0x2', 'pitch_96', 'velocity_58', 'duration_2x0x2', 'position_28', 'pitch_91', 'velocity_47', 'duration_1x1x4', 'bar_none', 'position_8', 'pitch_67', 'velocity_52', 'duration_1x0x4', 'position_9', 'pitch_55', 'velocity_21', 'duration_0x1x8', 'position_15', 'pitch_79', 'velocity_79', 'duration_1x2x4', 'position_16', 'pitch_67', 'velocity_31', 'duration_1x0x4', 'position_20', 'pitch_81', 'velocity_84', 'duration_0x6x8', 'pitch_77', 'velocity_58', 'duration_0x6x8', 'pitch_74', 'velocity_63', 'duration_0x3x8', 'position_21', 'pitch_65', 'velocity_58', 'duration_0x6x8', 'position_24', 'pitch_82', 'velocity_79', 'duration_0x3x8', 'pitch_67', 'velocity_42', 'duration_0x3x8', 'pitch_74', 'velocity_58', 'duration_0x2x8', 'position_27', 'pitch_84', 'velocity_89', 'duration_1x0x4', 'pitch_73', 'velocity_84', 'duration_2x0x2', 'position_28', 'pitch_64', 'velocity_52', 'duration_1x3x4', 'position_30', 'pitch_67', 'velocity_42', 'duration_1x2x4', 'pitch_82', 'velocity_89', 'duration_1x2x4', 'pitch_76', 'velocity_63', 'duration_1x2x4', 'bar_none', 'position_2', 'pitch_75', 'velocity_68', 'duration_0x4x8', 'pitch_81', 'velocity_84', 'duration_0x7x8', 'pitch_72', 'velocity_68', 'duration_0x7x8', 'position_3', 'pitch_63', 'velocity_68', 'duration_0x7x8', 'position_6', 'pitch_79', 'velocity_79', 'duration_0x4x8', 'pitch_75', 'velocity_58', 'duration_0x3x8', 'position_11', 'pitch_55', 'velocity_79', 'duration_0x1x8', 'position_18', 'pitch_43', 'velocity_47', 'duration_0x1x8', 'pitch_77', 'velocity_68', 'duration_2x0x2', 'pitch_55', 'velocity_52', 'duration_2x0x2', 'pitch_91', 'velocity_74', 'duration_1x2x4', 'pitch_84', 'velocity_74', 'duration_1x0x4', 'position_20', 'pitch_79', 'velocity_68', 'duration_1x1x4', 'pitch_68', 'velocity_68', 'duration_1x3x4', 'position_22', 'pitch_72', 'velocity_63', 'duration_1x3x4', 'pitch_74', 'velocity_74', 'duration_1x2x4', 'position_26', 'pitch_84', 'velocity_79', 'duration_1x1x4', 'pitch_103', 'velocity_89', 'duration_1x1x4', 'pitch_86', 'velocity_84', 'duration_1x1x4', 'pitch_96', 'velocity_89', 'duration_1x0x4', 'pitch_98', 'velocity_74', 'duration_1x0x4', 'position_29', 'pitch_91', 'velocity_68', 'duration_0x5x8', 'position_30', 'pitch_79', 'velocity_47', 'duration_0x5x8', 'bar_none', 'position_4', 'pitch_79', 'velocity_79', 'duration_1x0x4', 'pitch_91', 'velocity_68', 'duration_1x0x4', 'pitch_55', 'velocity_74', 'duration_0x2x8', 'position_12', 'pitch_91', 'velocity_84', 'duration_1x3x4', 'pitch_79', 'velocity_68', 'duration_0x2x8', 'pitch_84', 'velocity_74', 'duration_1x1x4', 'pitch_67', 'velocity_58', 'duration_3x1x2', 'pitch_55', 'velocity_58', 'duration_0x2x8', 'pitch_77', 'velocity_63', 'duration_3x1x2', 'position_14', 'pitch_79', 'velocity_74', 'duration_3x0x2', 'position_15', 'pitch_55', 'velocity_52', 'duration_3x0x2', 'position_16', 'pitch_68', 'velocity_63', 'duration_1x1x4', 'position_18', 'pitch_72', 'velocity_47', 'duration_2x1x2', 'pitch_74', 'velocity_63', 'duration_2x1x2', 'position_21', 'pitch_103', 'velocity_89', 'duration_2x1x2', 'pitch_84', 'velocity_79', 'duration_2x1x2', 'pitch_96', 'velocity_89', 'duration_2x1x2', 'pitch_86', 'velocity_68', 'duration_2x1x2', 'position_25', 'pitch_91', 'velocity_74', 'duration_2x0x2', 'pitch_68', 'velocity_26', 'duration_1x3x4', 'bar_none', 'position_9', 'pitch_69', 'velocity_68', 'duration_2x0x2', 'position_15', 'pitch_88', 'velocity_58', 'duration_0x1x8', 'pitch_82', 'velocity_74', 'duration_1x2x4', 'position_20', 'pitch_84', 'velocity_79', 'duration_0x4x8', 'pitch_76', 'velocity_74', 'duration_0x6x8', 'pitch_67', 'velocity_68', 'duration_0x3x8', 'position_23', 'pitch_86', 'velocity_89', 'duration_0x3x8', 'position_24', 'pitch_67', 'velocity_52', 'duration_0x3x8', 'pitch_84', 'velocity_52', 'duration_0x2x8', 'position_27', 'pitch_84', 'velocity_84', 'duration_2x0x2', 'pitch_66', 'velocity_68', 'duration_2x0x2', 'pitch_75', 'velocity_84', 'duration_2x0x2', 'position_31', 'pitch_82', 'velocity_74', 'duration_1x2x4', 'pitch_78', 'velocity_58', 'duration_1x2x4', 'bar_none', 'position_3', 'pitch_65', 'velocity_68', 'duration_0x7x8', 'pitch_69', 'velocity_52', 'duration_0x7x8', 'pitch_74', 'velocity_58', 'duration_0x7x8', 'pitch_81', 'velocity_84', 'duration_0x7x8', 'position_7', 'pitch_79', 'velocity_79', 'duration_0x3x8', 'position_11', 'pitch_37', 'velocity_63', 'duration_0x1x8', 'position_12', 'pitch_69', 'velocity_84', 'duration_0x7x8', 'pitch_49', 'velocity_74', 'duration_0x1x8', 'position_19', 'pitch_69', 'velocity_74', 'duration_2x0x2', 'pitch_77', 'velocity_74', 'duration_2x0x2', 'pitch_82', 'velocity_79', 'duration_1x2x4', 'position_21', 'pitch_70', 'velocity_68', 'duration_1x3x4', 'position_23', 'pitch_58', 'velocity_74', 'duration_1x2x4', 'position_24', 'pitch_64', 'velocity_74', 'duration_1x1x4', 'position_28', 'pitch_89', 'velocity_89', 'duration_0x7x8', 'pitch_94', 'velocity_89', 'duration_0x7x8', 'pitch_76', 'velocity_89', 'duration_0x7x8', 'position_30', 'pitch_82', 'velocity_63', 'duration_0x5x8', 'bar_none', 'position_4', 'pitch_81', 'velocity_84', 'duration_0x1x8', 'pitch_69', 'velocity_84', 'duration_0x2x8', 'pitch_60', 'velocity_68', 'duration_0x1x8', 'pitch_37', 'velocity_63', 'duration_0x1x8', 'pitch_49', 'velocity_79', 'duration_5x0x1', 'position_13', 'pitch_69', 'velocity_74', 'duration_3x1x2', 'pitch_77', 'velocity_58', 'duration_3x1x2', 'pitch_82', 'velocity_74', 'duration_2x0x2', 'position_16', 'pitch_70', 'velocity_68', 'duration_1x3x4', 'position_18', 'pitch_58', 'velocity_68', 'duration_3x0x2', 'position_19', 'pitch_64', 'velocity_68', 'duration_3x0x2', 'position_25', 'pitch_76', 'velocity_79', 'duration_2x1x2', 'pitch_94', 'velocity_79', 'duration_2x0x2', 'pitch_88', 'velocity_68', 'duration_2x0x2', 'pitch_89', 'velocity_74', 'duration_2x0x2', 'position_29', 'pitch_82', 'velocity_74', 'duration_1x3x4', 'position_30', 'pitch_70', 'velocity_58', 'duration_1x3x4', 'bar_none', 'position_11', 'pitch_65', 'velocity_63', 'duration_3x0x2', 'pitch_57', 'velocity_58', 'duration_3x0x2', 'pitch_63', 'velocity_58', 'duration_3x0x2', 'pitch_51', 'velocity_58', 'duration_2x1x2', 'pitch_59', 'velocity_52', 'duration_2x1x2', 'pitch_53', 'velocity_47', 'duration_2x1x2', 'pitch_47', 'velocity_42', 'duration_2x1x2', 'bar_none', 'position_2', 'pitch_68', 'velocity_74', 'duration_1x1x4', 'pitch_56', 'velocity_74', 'duration_1x1x4', 'pitch_46', 'velocity_52', 'duration_1x1x4', 'pitch_52', 'velocity_58', 'duration_1x1x4', 'pitch_62', 'velocity_63', 'duration_1x1x4', 'pitch_58', 'velocity_58', 'duration_1x2x4', 'position_14', 'pitch_46', 'velocity_58', 'duration_1x2x4', 'pitch_67', 'velocity_74', 'duration_1x2x4', 'pitch_55', 'velocity_74', 'duration_1x2x4', 'pitch_61', 'velocity_74', 'duration_1x2x4', 'pitch_45', 'velocity_58', 'duration_1x2x4', 'position_25', 'pitch_38', 'velocity_63', 'duration_8x0x1', 'pitch_44', 'velocity_52', 'duration_8x0x1', 'pitch_50', 'velocity_52', 'duration_0x1x8', 'position_28', 'pitch_54', 'velocity_58', 'duration_8x0x1', 'position_30', 'pitch_60', 'velocity_63', 'duration_8x0x1', 'bar_none', 'position_1', 'pitch_66', 'velocity_58', 'duration_8x0x1', 'position_6', 'pitch_70', 'velocity_74', 'duration_8x0x1', 'pitch_82', 'velocity_63', 'duration_0x1x8', 'bar_none', 'bar_none', 'position_14', 'pitch_67', 'velocity_63', 'duration_1x0x4', 'position_21', 'pitch_79', 'velocity_74', 'duration_1x1x4', 'pitch_67', 'velocity_37', 'duration_0x4x8', 'position_25', 'pitch_81', 'velocity_79', 'duration_0x6x8', 'position_26', 'pitch_67', 'velocity_42', 'duration_0x3x8', 'pitch_74', 'velocity_58', 'duration_0x5x8', 'pitch_65', 'velocity_42', 'duration_0x5x8', 'position_28', 'pitch_82', 'velocity_79', 'duration_0x2x8', 'pitch_67', 'velocity_47', 'duration_0x2x8', 'position_31', 'pitch_84', 'velocity_84', 'duration_2x0x2', 'bar_none', 'position_0', 'pitch_67', 'velocity_47', 'duration_0x1x8', 'pitch_64', 'velocity_68', 'duration_2x0x2', 'pitch_73', 'velocity_74', 'duration_2x0x2', 'position_4', 'pitch_82', 'velocity_74', 'duration_1x2x4', 'pitch_67', 'velocity_42', 'duration_0x7x8', 'position_7', 'pitch_81', 'velocity_84', 'duration_1x0x4', 'pitch_72', 'velocity_68', 'duration_1x0x4', 'pitch_63', 'velocity_74', 'duration_1x0x4', 'position_11', 'pitch_79', 'velocity_84', 'duration_0x5x8', 'pitch_67', 'velocity_47', 'duration_0x4x8', 'position_17', 'pitch_65', 'velocity_79', 'duration_1x1x4', 'pitch_55', 'velocity_74', 'duration_1x1x4', 'pitch_74', 'velocity_79', 'duration_1x0x4', 'position_24', 'pitch_72', 'velocity_84', 'duration_1x0x4', 'position_25', 'pitch_66', 'velocity_79', 'duration_1x0x4', 'pitch_56', 'velocity_68', 'duration_1x0x4', 'position_29', 'pitch_65', 'velocity_79', 'duration_0x4x8', 'pitch_55', 'velocity_68', 'duration_0x4x8', 'pitch_70', 'velocity_74', 'duration_0x4x8', 'bar_none', 'position_2', 'pitch_69', 'velocity_74', 'duration_1x3x4', 'pitch_54', 'velocity_63', 'duration_1x3x4', 'pitch_64', 'velocity_68', 'duration_1x3x4', 'position_7', 'pitch_67', 'velocity_79', 'duration_0x7x8', 'pitch_57', 'velocity_63', 'duration_0x7x8', 'pitch_63', 'velocity_68', 'duration_0x7x8', 'position_16', 'pitch_66', 'velocity_58', 'duration_2x1x2', 'pitch_70', 'velocity_68', 'duration_2x1x2', 'pitch_62', 'velocity_58', 'duration_2x1x2', 'position_17', 'pitch_52', 'velocity_42', 'duration_2x1x2', 'bar_none', 'position_6', 'pitch_79', 'velocity_68', 'duration_4x0x1', 'position_11', 'pitch_67', 'velocity_63', 'duration_1x2x4', 'position_16', 'pitch_69', 'velocity_63', 'duration_2x0x2', 'pitch_77', 'velocity_63', 'duration_3x0x2', 'pitch_86', 'velocity_68', 'duration_3x0x2', 'position_20', 'pitch_70', 'velocity_68', 'duration_0x4x8', 'position_24', 'pitch_85', 'velocity_74', 'duration_2x0x2', 'pitch_72', 'velocity_68', 'duration_2x0x2', 'pitch_76', 'velocity_79', 'duration_2x0x2', 'pitch_67', 'velocity_47', 'duration_0x7x8', 'pitch_84', 'velocity_58', 'duration_0x7x8', 'pitch_70', 'velocity_47', 'duration_0x3x8', 'position_27', 'pitch_70', 'velocity_74', 'duration_1x3x4', 'position_31', 'pitch_75', 'velocity_84', 'duration_1x1x4', 'pitch_84', 'velocity_79', 'duration_1x1x4', 'pitch_69', 'velocity_68', 'duration_1x1x4', 'pitch_67', 'velocity_58', 'duration_0x4x8', 'bar_none', 'position_3', 'pitch_67', 'velocity_74', 'duration_0x5x8', 'position_9', 'pitch_55', 'velocity_79', 'duration_0x1x8', 'pitch_79', 'velocity_84', 'duration_1x1x4', 'pitch_91', 'velocity_79', 'duration_1x1x4', 'position_19', 'pitch_86', 'velocity_84', 'duration_1x1x4', 'pitch_91', 'velocity_84', 'duration_1x2x4', 'pitch_79', 'velocity_74', 'duration_0x2x8', 'pitch_77', 'velocity_74', 'duration_2x0x2', 'pitch_67', 'velocity_63', 'duration_1x0x4', 'pitch_55', 'velocity_58', 'duration_1x1x4', 'position_21', 'pitch_79', 'velocity_74', 'duration_1x3x4']\n"
     ]
    }
   ],
   "source": [
    "d0 = test_dataset[2]\n",
    "x = d0['input_ids']\n",
    "print(len(x))\n",
    "y = tokenizer.convert_ids_to_tokens(x)\n",
    "print(y)"
   ]
  },
  {
   "cell_type": "code",
   "execution_count": 5,
   "metadata": {},
   "outputs": [],
   "source": [
    "remi_tokenizer = REMI(params=Path('/media/maindisk/maximos/data/pretrained_models/midis_REMI_BPE_tokenizer.json'))"
   ]
  },
  {
   "cell_type": "code",
   "execution_count": 6,
   "metadata": {},
   "outputs": [],
   "source": [
    "toks_miditok = []\n",
    "for tok in y:\n",
    "    if '_' in tok:\n",
    "        toks_miditok.append(tok.replace('x', '.'))\n",
    "        # toks_miditok.append(tok.replace('x', '.').replace('_none', '_None').title())\n",
    "tok_seq = TokSequence(toks_miditok)"
   ]
  },
  {
   "cell_type": "code",
   "execution_count": 7,
   "metadata": {},
   "outputs": [
    {
     "name": "stdout",
     "output_type": "stream",
     "text": [
      "TokSequence(tokens=['Bar_None', 'Position_0', 'Tempo_125.0', 'Bar_None', 'Bar_None', 'Bar_None', 'Bar_None', 'Bar_None', 'Bar_None', 'Position_15', 'Pitch_67', 'Velocity_63', 'Duration_2.1.2', 'Position_23', 'Pitch_79', 'Velocity_68', 'Duration_1.2.4', 'Pitch_55', 'Velocity_31', 'Duration_0.1.8', 'Pitch_62', 'Velocity_21', 'Duration_0.1.8', 'Position_28', 'Pitch_81', 'Velocity_79', 'Duration_0.7.8', 'Position_29', 'Pitch_74', 'Velocity_58', 'Duration_0.4.8', 'Pitch_65', 'Velocity_47', 'Duration_0.4.8', 'Bar_None', 'Position_0', 'Pitch_82', 'Velocity_79', 'Duration_0.3.8', 'Pitch_56', 'Velocity_42', 'Duration_0.1.8', 'Position_4', 'Pitch_84', 'Velocity_84', 'Duration_1.0.4', 'Pitch_73', 'Velocity_74', 'Duration_1.0.4', 'Pitch_64', 'Velocity_58', 'Duration_1.0.4', 'Position_8', 'Pitch_82', 'Velocity_74', 'Duration_0.4.8', 'Pitch_55', 'Velocity_37', 'Duration_0.4.8', 'Pitch_76', 'Velocity_58', 'Duration_0.1.8', 'Pitch_67', 'Velocity_42', 'Duration_0.4.8', 'Position_13', 'Pitch_81', 'Velocity_74', 'Duration_1.2.4', 'Pitch_72', 'Velocity_63', 'Duration_1.2.4', 'Pitch_63', 'Velocity_58', 'Duration_0.6.8', 'Position_19', 'Pitch_79', 'Velocity_74', 'Duration_0.5.8', 'Pitch_67', 'Velocity_37', 'Duration_0.5.8', 'Pitch_63', 'Velocity_31', 'Duration_0.5.8', 'Position_25', 'Pitch_79', 'Velocity_58', 'Duration_1.2.4', 'Pitch_55', 'Velocity_84', 'Duration_0.1.8', 'Bar_None', 'Position_2', 'Pitch_91', 'Velocity_84', 'Duration_1.1.4', 'Pitch_84', 'Velocity_74', 'Duration_1.3.4', 'Pitch_89', 'Velocity_74', 'Duration_1.3.4', 'Pitch_77', 'Velocity_74', 'Duration_1.3.4', 'Pitch_67', 'Velocity_58', 'Duration_1.3.4', 'Pitch_55', 'Velocity_58', 'Duration_0.2.8', 'Position_4', 'Pitch_79', 'Velocity_68', 'Duration_1.2.4', 'Pitch_55', 'Velocity_58', 'Duration_1.2.4', 'Position_9', 'Pitch_68', 'Velocity_63', 'Duration_0.7.8', 'Pitch_72', 'Velocity_74', 'Duration_0.7.8', 'Pitch_103', 'Velocity_95', 'Duration_3.0.2', 'Position_10', 'Pitch_96', 'Velocity_84', 'Duration_0.6.8', 'Position_12', 'Pitch_91', 'Velocity_68', 'Duration_1.3.4', 'Position_17', 'Pitch_67', 'Velocity_52', 'Duration_1.0.4', 'Pitch_55', 'Velocity_74', 'Duration_1.0.4', 'Position_24', 'Pitch_91', 'Velocity_68', 'Duration_0.2.8', 'Pitch_84', 'Velocity_68', 'Duration_2.0.2', 'Position_25', 'Pitch_77', 'Velocity_58', 'Duration_1.3.4', 'Pitch_89', 'Velocity_63', 'Duration_1.1.4', 'Pitch_55', 'Velocity_42', 'Duration_1.3.4', 'Pitch_67', 'Velocity_31', 'Duration_1.3.4', 'Position_27', 'Pitch_79', 'Velocity_74', 'Duration_1.2.4', 'Pitch_91', 'Velocity_63', 'Duration_1.0.4', 'Position_31', 'Pitch_68', 'Velocity_58', 'Duration_1.0.4', 'Bar_None', 'Position_0', 'Pitch_72', 'Velocity_63', 'Duration_0.7.8', 'Position_1', 'Pitch_96', 'Velocity_79', 'Duration_0.6.8', 'Pitch_103', 'Velocity_84', 'Duration_0.6.8', 'Position_3', 'Pitch_89', 'Velocity_47', 'Duration_0.4.8', 'Pitch_91', 'Velocity_58', 'Duration_1.3.4', 'Position_9', 'Pitch_55', 'Velocity_63', 'Duration_0.6.8', 'Position_16', 'Pitch_91', 'Velocity_68', 'Duration_0.2.8', 'Pitch_79', 'Velocity_47', 'Duration_0.2.8', 'Pitch_84', 'Velocity_58', 'Duration_1.1.4', 'Pitch_55', 'Velocity_42', 'Duration_2.0.2', 'Pitch_67', 'Velocity_42', 'Duration_2.0.2', 'Pitch_77', 'Velocity_52', 'Duration_1.2.4', 'Position_18', 'Pitch_79', 'Velocity_63', 'Duration_1.1.4', 'Pitch_91', 'Velocity_52', 'Duration_0.6.8', 'Position_23', 'Pitch_68', 'Velocity_47', 'Duration_1.1.4', 'Position_24', 'Pitch_72', 'Velocity_58', 'Duration_1.0.4', 'Pitch_103', 'Velocity_74', 'Duration_1.0.4', 'Pitch_91', 'Velocity_58', 'Duration_0.3.8', 'Position_25', 'Pitch_96', 'Velocity_58', 'Duration_0.7.8', 'Pitch_84', 'Velocity_52', 'Duration_0.7.8', 'Position_28', 'Pitch_91', 'Velocity_58', 'Duration_1.3.4', 'Pitch_89', 'Velocity_47', 'Duration_0.4.8', 'Pitch_79', 'Velocity_42', 'Duration_0.4.8', 'Pitch_77', 'Velocity_37', 'Duration_0.4.8', 'Bar_None', 'Position_1', 'Pitch_55', 'Velocity_52', 'Duration_0.4.8', 'Position_10', 'Pitch_91', 'Velocity_63', 'Duration_2.1.2', 'Pitch_77', 'Velocity_52', 'Duration_3.1.2', 'Pitch_84', 'Velocity_58', 'Duration_3.1.2', 'Pitch_89', 'Velocity_58', 'Duration_3.1.2', 'Position_11', 'Pitch_55', 'Velocity_37', 'Duration_3.1.2', 'Pitch_67', 'Velocity_31', 'Duration_0.3.8', 'Position_13', 'Pitch_79', 'Velocity_63', 'Duration_3.0.2', 'Position_14', 'Pitch_67', 'Velocity_26', 'Duration_3.0.2', 'Position_18', 'Pitch_68', 'Velocity_47', 'Duration_2.1.2', 'Position_20', 'Pitch_72', 'Velocity_42', 'Duration_2.1.2', 'Position_21', 'Pitch_74', 'Velocity_58', 'Duration_2.0.2', 'Pitch_103', 'Velocity_68', 'Duration_2.0.2', 'Pitch_96', 'Velocity_58', 'Duration_2.0.2', 'Position_28', 'Pitch_91', 'Velocity_47', 'Duration_1.1.4', 'Bar_None', 'Position_8', 'Pitch_67', 'Velocity_52', 'Duration_1.0.4', 'Position_9', 'Pitch_55', 'Velocity_21', 'Duration_0.1.8', 'Position_15', 'Pitch_79', 'Velocity_79', 'Duration_1.2.4', 'Position_16', 'Pitch_67', 'Velocity_31', 'Duration_1.0.4', 'Position_20', 'Pitch_81', 'Velocity_84', 'Duration_0.6.8', 'Pitch_77', 'Velocity_58', 'Duration_0.6.8', 'Pitch_74', 'Velocity_63', 'Duration_0.3.8', 'Position_21', 'Pitch_65', 'Velocity_58', 'Duration_0.6.8', 'Position_24', 'Pitch_82', 'Velocity_79', 'Duration_0.3.8', 'Pitch_67', 'Velocity_42', 'Duration_0.3.8', 'Pitch_74', 'Velocity_58', 'Duration_0.2.8', 'Position_27', 'Pitch_84', 'Velocity_89', 'Duration_1.0.4', 'Pitch_73', 'Velocity_84', 'Duration_2.0.2', 'Position_28', 'Pitch_64', 'Velocity_52', 'Duration_1.3.4', 'Position_30', 'Pitch_67', 'Velocity_42', 'Duration_1.2.4', 'Pitch_82', 'Velocity_89', 'Duration_1.2.4', 'Pitch_76', 'Velocity_63', 'Duration_1.2.4', 'Bar_None', 'Position_2', 'Pitch_75', 'Velocity_68', 'Duration_0.4.8', 'Pitch_81', 'Velocity_84', 'Duration_0.7.8', 'Pitch_72', 'Velocity_68', 'Duration_0.7.8', 'Position_3', 'Pitch_63', 'Velocity_68', 'Duration_0.7.8', 'Position_6', 'Pitch_79', 'Velocity_79', 'Duration_0.4.8', 'Pitch_75', 'Velocity_58', 'Duration_0.3.8', 'Position_11', 'Pitch_55', 'Velocity_79', 'Duration_0.1.8', 'Position_18', 'Pitch_43', 'Velocity_47', 'Duration_0.1.8', 'Pitch_77', 'Velocity_68', 'Duration_2.0.2', 'Pitch_55', 'Velocity_52', 'Duration_2.0.2', 'Pitch_91', 'Velocity_74', 'Duration_1.2.4', 'Pitch_84', 'Velocity_74', 'Duration_1.0.4', 'Position_20', 'Pitch_79', 'Velocity_68', 'Duration_1.1.4', 'Pitch_68', 'Velocity_68', 'Duration_1.3.4', 'Position_22', 'Pitch_72', 'Velocity_63', 'Duration_1.3.4', 'Pitch_74', 'Velocity_74', 'Duration_1.2.4', 'Position_26', 'Pitch_84', 'Velocity_79', 'Duration_1.1.4', 'Pitch_103', 'Velocity_89', 'Duration_1.1.4', 'Pitch_86', 'Velocity_84', 'Duration_1.1.4', 'Pitch_96', 'Velocity_89', 'Duration_1.0.4', 'Pitch_98', 'Velocity_74', 'Duration_1.0.4', 'Position_29', 'Pitch_91', 'Velocity_68', 'Duration_0.5.8', 'Position_30', 'Pitch_79', 'Velocity_47', 'Duration_0.5.8', 'Bar_None', 'Position_4', 'Pitch_79', 'Velocity_79', 'Duration_1.0.4', 'Pitch_91', 'Velocity_68', 'Duration_1.0.4', 'Pitch_55', 'Velocity_74', 'Duration_0.2.8', 'Position_12', 'Pitch_91', 'Velocity_84', 'Duration_1.3.4', 'Pitch_79', 'Velocity_68', 'Duration_0.2.8', 'Pitch_84', 'Velocity_74', 'Duration_1.1.4', 'Pitch_67', 'Velocity_58', 'Duration_3.1.2', 'Pitch_55', 'Velocity_58', 'Duration_0.2.8', 'Pitch_77', 'Velocity_63', 'Duration_3.1.2', 'Position_14', 'Pitch_79', 'Velocity_74', 'Duration_3.0.2', 'Position_15', 'Pitch_55', 'Velocity_52', 'Duration_3.0.2', 'Position_16', 'Pitch_68', 'Velocity_63', 'Duration_1.1.4', 'Position_18', 'Pitch_72', 'Velocity_47', 'Duration_2.1.2', 'Pitch_74', 'Velocity_63', 'Duration_2.1.2', 'Position_21', 'Pitch_103', 'Velocity_89', 'Duration_2.1.2', 'Pitch_84', 'Velocity_79', 'Duration_2.1.2', 'Pitch_96', 'Velocity_89', 'Duration_2.1.2', 'Pitch_86', 'Velocity_68', 'Duration_2.1.2', 'Position_25', 'Pitch_91', 'Velocity_74', 'Duration_2.0.2', 'Pitch_68', 'Velocity_26', 'Duration_1.3.4', 'Bar_None', 'Position_9', 'Pitch_69', 'Velocity_68', 'Duration_2.0.2', 'Position_15', 'Pitch_88', 'Velocity_58', 'Duration_0.1.8', 'Pitch_82', 'Velocity_74', 'Duration_1.2.4', 'Position_20', 'Pitch_84', 'Velocity_79', 'Duration_0.4.8', 'Pitch_76', 'Velocity_74', 'Duration_0.6.8', 'Pitch_67', 'Velocity_68', 'Duration_0.3.8', 'Position_23', 'Pitch_86', 'Velocity_89', 'Duration_0.3.8', 'Position_24', 'Pitch_67', 'Velocity_52', 'Duration_0.3.8', 'Pitch_84', 'Velocity_52', 'Duration_0.2.8', 'Position_27', 'Pitch_84', 'Velocity_84', 'Duration_2.0.2', 'Pitch_66', 'Velocity_68', 'Duration_2.0.2', 'Pitch_75', 'Velocity_84', 'Duration_2.0.2', 'Position_31', 'Pitch_82', 'Velocity_74', 'Duration_1.2.4', 'Pitch_78', 'Velocity_58', 'Duration_1.2.4', 'Bar_None', 'Position_3', 'Pitch_65', 'Velocity_68', 'Duration_0.7.8', 'Pitch_69', 'Velocity_52', 'Duration_0.7.8', 'Pitch_74', 'Velocity_58', 'Duration_0.7.8', 'Pitch_81', 'Velocity_84', 'Duration_0.7.8', 'Position_7', 'Pitch_79', 'Velocity_79', 'Duration_0.3.8', 'Position_11', 'Pitch_37', 'Velocity_63', 'Duration_0.1.8', 'Position_12', 'Pitch_69', 'Velocity_84', 'Duration_0.7.8', 'Pitch_49', 'Velocity_74', 'Duration_0.1.8', 'Position_19', 'Pitch_69', 'Velocity_74', 'Duration_2.0.2', 'Pitch_77', 'Velocity_74', 'Duration_2.0.2', 'Pitch_82', 'Velocity_79', 'Duration_1.2.4', 'Position_21', 'Pitch_70', 'Velocity_68', 'Duration_1.3.4', 'Position_23', 'Pitch_58', 'Velocity_74', 'Duration_1.2.4', 'Position_24', 'Pitch_64', 'Velocity_74', 'Duration_1.1.4', 'Position_28', 'Pitch_89', 'Velocity_89', 'Duration_0.7.8', 'Pitch_94', 'Velocity_89', 'Duration_0.7.8', 'Pitch_76', 'Velocity_89', 'Duration_0.7.8', 'Position_30', 'Pitch_82', 'Velocity_63', 'Duration_0.5.8', 'Bar_None', 'Position_4', 'Pitch_81', 'Velocity_84', 'Duration_0.1.8', 'Pitch_69', 'Velocity_84', 'Duration_0.2.8', 'Pitch_60', 'Velocity_68', 'Duration_0.1.8', 'Pitch_37', 'Velocity_63', 'Duration_0.1.8', 'Pitch_49', 'Velocity_79', 'Duration_5.0.1', 'Position_13', 'Pitch_69', 'Velocity_74', 'Duration_3.1.2', 'Pitch_77', 'Velocity_58', 'Duration_3.1.2', 'Pitch_82', 'Velocity_74', 'Duration_2.0.2', 'Position_16', 'Pitch_70', 'Velocity_68', 'Duration_1.3.4', 'Position_18', 'Pitch_58', 'Velocity_68', 'Duration_3.0.2', 'Position_19', 'Pitch_64', 'Velocity_68', 'Duration_3.0.2', 'Position_25', 'Pitch_76', 'Velocity_79', 'Duration_2.1.2', 'Pitch_94', 'Velocity_79', 'Duration_2.0.2', 'Pitch_88', 'Velocity_68', 'Duration_2.0.2', 'Pitch_89', 'Velocity_74', 'Duration_2.0.2', 'Position_29', 'Pitch_82', 'Velocity_74', 'Duration_1.3.4', 'Position_30', 'Pitch_70', 'Velocity_58', 'Duration_1.3.4', 'Bar_None', 'Position_11', 'Pitch_65', 'Velocity_63', 'Duration_3.0.2', 'Pitch_57', 'Velocity_58', 'Duration_3.0.2', 'Pitch_63', 'Velocity_58', 'Duration_3.0.2', 'Pitch_51', 'Velocity_58', 'Duration_2.1.2', 'Pitch_59', 'Velocity_52', 'Duration_2.1.2', 'Pitch_53', 'Velocity_47', 'Duration_2.1.2', 'Pitch_47', 'Velocity_42', 'Duration_2.1.2', 'Bar_None', 'Position_2', 'Pitch_68', 'Velocity_74', 'Duration_1.1.4', 'Pitch_56', 'Velocity_74', 'Duration_1.1.4', 'Pitch_46', 'Velocity_52', 'Duration_1.1.4', 'Pitch_52', 'Velocity_58', 'Duration_1.1.4', 'Pitch_62', 'Velocity_63', 'Duration_1.1.4', 'Pitch_58', 'Velocity_58', 'Duration_1.2.4', 'Position_14', 'Pitch_46', 'Velocity_58', 'Duration_1.2.4', 'Pitch_67', 'Velocity_74', 'Duration_1.2.4', 'Pitch_55', 'Velocity_74', 'Duration_1.2.4', 'Pitch_61', 'Velocity_74', 'Duration_1.2.4', 'Pitch_45', 'Velocity_58', 'Duration_1.2.4', 'Position_25', 'Pitch_38', 'Velocity_63', 'Duration_8.0.1', 'Pitch_44', 'Velocity_52', 'Duration_8.0.1', 'Pitch_50', 'Velocity_52', 'Duration_0.1.8', 'Position_28', 'Pitch_54', 'Velocity_58', 'Duration_8.0.1', 'Position_30', 'Pitch_60', 'Velocity_63', 'Duration_8.0.1', 'Bar_None', 'Position_1', 'Pitch_66', 'Velocity_58', 'Duration_8.0.1', 'Position_6', 'Pitch_70', 'Velocity_74', 'Duration_8.0.1', 'Pitch_82', 'Velocity_63', 'Duration_0.1.8', 'Bar_None', 'Bar_None', 'Position_14', 'Pitch_67', 'Velocity_63', 'Duration_1.0.4', 'Position_21', 'Pitch_79', 'Velocity_74', 'Duration_1.1.4', 'Pitch_67', 'Velocity_37', 'Duration_0.4.8', 'Position_25', 'Pitch_81', 'Velocity_79', 'Duration_0.6.8', 'Position_26', 'Pitch_67', 'Velocity_42', 'Duration_0.3.8', 'Pitch_74', 'Velocity_58', 'Duration_0.5.8', 'Pitch_65', 'Velocity_42', 'Duration_0.5.8', 'Position_28', 'Pitch_82', 'Velocity_79', 'Duration_0.2.8', 'Pitch_67', 'Velocity_47', 'Duration_0.2.8', 'Position_31', 'Pitch_84', 'Velocity_84', 'Duration_2.0.2', 'Bar_None', 'Position_0', 'Pitch_67', 'Velocity_47', 'Duration_0.1.8', 'Pitch_64', 'Velocity_68', 'Duration_2.0.2', 'Pitch_73', 'Velocity_74', 'Duration_2.0.2', 'Position_4', 'Pitch_82', 'Velocity_74', 'Duration_1.2.4', 'Pitch_67', 'Velocity_42', 'Duration_0.7.8', 'Position_7', 'Pitch_81', 'Velocity_84', 'Duration_1.0.4', 'Pitch_72', 'Velocity_68', 'Duration_1.0.4', 'Pitch_63', 'Velocity_74', 'Duration_1.0.4', 'Position_11', 'Pitch_79', 'Velocity_84', 'Duration_0.5.8', 'Pitch_67', 'Velocity_47', 'Duration_0.4.8', 'Position_17', 'Pitch_65', 'Velocity_79', 'Duration_1.1.4', 'Pitch_55', 'Velocity_74', 'Duration_1.1.4', 'Pitch_74', 'Velocity_79', 'Duration_1.0.4', 'Position_24', 'Pitch_72', 'Velocity_84', 'Duration_1.0.4', 'Position_25', 'Pitch_66', 'Velocity_79', 'Duration_1.0.4', 'Pitch_56', 'Velocity_68', 'Duration_1.0.4', 'Position_29', 'Pitch_65', 'Velocity_79', 'Duration_0.4.8', 'Pitch_55', 'Velocity_68', 'Duration_0.4.8', 'Pitch_70', 'Velocity_74', 'Duration_0.4.8', 'Bar_None', 'Position_2', 'Pitch_69', 'Velocity_74', 'Duration_1.3.4', 'Pitch_54', 'Velocity_63', 'Duration_1.3.4', 'Pitch_64', 'Velocity_68', 'Duration_1.3.4', 'Position_7', 'Pitch_67', 'Velocity_79', 'Duration_0.7.8', 'Pitch_57', 'Velocity_63', 'Duration_0.7.8', 'Pitch_63', 'Velocity_68', 'Duration_0.7.8', 'Position_16', 'Pitch_66', 'Velocity_58', 'Duration_2.1.2', 'Pitch_70', 'Velocity_68', 'Duration_2.1.2', 'Pitch_62', 'Velocity_58', 'Duration_2.1.2', 'Position_17', 'Pitch_52', 'Velocity_42', 'Duration_2.1.2', 'Bar_None', 'Position_6', 'Pitch_79', 'Velocity_68', 'Duration_4.0.1', 'Position_11', 'Pitch_67', 'Velocity_63', 'Duration_1.2.4', 'Position_16', 'Pitch_69', 'Velocity_63', 'Duration_2.0.2', 'Pitch_77', 'Velocity_63', 'Duration_3.0.2', 'Pitch_86', 'Velocity_68', 'Duration_3.0.2', 'Position_20', 'Pitch_70', 'Velocity_68', 'Duration_0.4.8', 'Position_24', 'Pitch_85', 'Velocity_74', 'Duration_2.0.2', 'Pitch_72', 'Velocity_68', 'Duration_2.0.2', 'Pitch_76', 'Velocity_79', 'Duration_2.0.2', 'Pitch_67', 'Velocity_47', 'Duration_0.7.8', 'Pitch_84', 'Velocity_58', 'Duration_0.7.8', 'Pitch_70', 'Velocity_47', 'Duration_0.3.8', 'Position_27', 'Pitch_70', 'Velocity_74', 'Duration_1.3.4', 'Position_31', 'Pitch_75', 'Velocity_84', 'Duration_1.1.4', 'Pitch_84', 'Velocity_79', 'Duration_1.1.4', 'Pitch_69', 'Velocity_68', 'Duration_1.1.4', 'Pitch_67', 'Velocity_58', 'Duration_0.4.8', 'Bar_None', 'Position_3', 'Pitch_67', 'Velocity_74', 'Duration_0.5.8', 'Position_9', 'Pitch_55', 'Velocity_79', 'Duration_0.1.8', 'Pitch_79', 'Velocity_84', 'Duration_1.1.4', 'Pitch_91', 'Velocity_79', 'Duration_1.1.4', 'Position_19', 'Pitch_86', 'Velocity_84', 'Duration_1.1.4', 'Pitch_91', 'Velocity_84', 'Duration_1.2.4', 'Pitch_79', 'Velocity_74', 'Duration_0.2.8', 'Pitch_77', 'Velocity_74', 'Duration_2.0.2', 'Pitch_67', 'Velocity_63', 'Duration_1.0.4', 'Pitch_55', 'Velocity_58', 'Duration_1.1.4', 'Position_21', 'Pitch_79', 'Velocity_74', 'Duration_1.3.4'], ids=[], bytes='', events=[], are_ids_encoded=False, _ticks_bars=[], _ticks_beats=[], _ids_decoded=[])\n"
     ]
    }
   ],
   "source": [
    "print(tok_seq)"
   ]
  },
  {
   "cell_type": "code",
   "execution_count": 8,
   "metadata": {},
   "outputs": [
    {
     "name": "stderr",
     "output_type": "stream",
     "text": [
      "/tmp/ipykernel_2326721/2386078323.py:1: UserWarning: miditok: The `tokens_to_midi` method had been renamed `decode`. It is now depreciated and will be removed in future updates.\n",
      "  m = remi_tokenizer.tokens_to_midi(tokens=[tok_seq])\n"
     ]
    }
   ],
   "source": [
    "m = remi_tokenizer.tokens_to_midi(tokens=[tok_seq])"
   ]
  },
  {
   "cell_type": "code",
   "execution_count": 9,
   "metadata": {},
   "outputs": [
    {
     "name": "stdout",
     "output_type": "stream",
     "text": [
      "Score(ttype=Tick, tpq=8, begin=0, end=835, tracks=1, notes=289, time_sig=1, key_sig=0, markers=0)\n"
     ]
    }
   ],
   "source": [
    "print(m)"
   ]
  },
  {
   "cell_type": "code",
   "execution_count": 10,
   "metadata": {},
   "outputs": [],
   "source": [
    "m.dump_midi('out.mid')"
   ]
  }
 ],
 "metadata": {
  "kernelspec": {
   "display_name": "torch",
   "language": "python",
   "name": "python3"
  },
  "language_info": {
   "codemirror_mode": {
    "name": "ipython",
    "version": 3
   },
   "file_extension": ".py",
   "mimetype": "text/x-python",
   "name": "python",
   "nbconvert_exporter": "python",
   "pygments_lexer": "ipython3",
   "version": "3.12.2"
  }
 },
 "nbformat": 4,
 "nbformat_minor": 2
}
